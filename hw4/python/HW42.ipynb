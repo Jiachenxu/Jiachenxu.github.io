{
  "nbformat": 4,
  "nbformat_minor": 0,
  "metadata": {
    "colab": {
      "name": "HW42.ipynb",
      "version": "0.3.2",
      "provenance": [],
      "collapsed_sections": []
    },
    "kernelspec": {
      "name": "python3",
      "display_name": "Python 3"
    },
    "accelerator": "GPU"
  },
  "cells": [
    {
      "metadata": {
        "id": "6ao-JFaulDlA",
        "colab_type": "code",
        "colab": {}
      },
      "cell_type": "code",
      "source": [
        "import tensorflow as tf\n",
        "tf.enable_eager_execution()\n",
        "\n",
        "from tensorflow.keras.preprocessing.text import Tokenizer\n",
        "from tensorflow.keras.preprocessing.sequence import pad_sequences\n",
        "\n",
        "import csv\n",
        "import matplotlib.pyplot as plt\n",
        "import numpy as np\n",
        "import os"
      ],
      "execution_count": 0,
      "outputs": []
    },
    {
      "metadata": {
        "id": "Bmm0DUpnlNAw",
        "colab_type": "code",
        "outputId": "85392fb2-4310-4552-e5f2-5f9ebdbbf2e6",
        "colab": {
          "base_uri": "https://localhost:8080/",
          "height": 243
        }
      },
      "cell_type": "code",
      "source": [
        "# Download the colors dataset\n",
        "if not os.path.exists('colors.csv'):\n",
        "  !curl -O 'https://raw.githubusercontent.com/random-forests/datasets/master/colors.csv'\n",
        "!head colors.csv"
      ],
      "execution_count": 2,
      "outputs": [
        {
          "output_type": "stream",
          "text": [
            "  % Total    % Received % Xferd  Average Speed   Time    Time     Time  Current\n",
            "                                 Dload  Upload   Total   Spent    Left  Speed\n",
            "\r  0     0    0     0    0     0      0      0 --:--:-- --:--:-- --:--:--     0\r100  323k  100  323k    0     0  1527k      0 --:--:-- --:--:-- --:--:-- 1534k\n",
            "name,red,green,blue\n",
            "parakeet,174,182,87\n",
            "saddle brown,88,52,1\n",
            "cucumber crush,222,237,215\n",
            "pool blue,134,194,201\n",
            "distance,98,110,130\n",
            "light urple,179,111,246\n",
            "east side,172,145,206\n",
            "florida seashells,250,228,199\n",
            "paris,145,167,189\n"
          ],
          "name": "stdout"
        }
      ]
    },
    {
      "metadata": {
        "id": "A_hCjUoElOOo",
        "colab_type": "code",
        "outputId": "754db705-10ba-4594-a679-90cb1f1d9476",
        "colab": {
          "base_uri": "https://localhost:8080/",
          "height": 52
        }
      },
      "cell_type": "code",
      "source": [
        "# Read the data\n",
        "colors_rgb = []\n",
        "csv_reader = csv.reader(open('colors.csv'), delimiter=',')\n",
        "next(csv_reader) # Remove the header\n",
        "for row in csv_reader:\n",
        "    name, r, g, b = row[0].lower().strip(), float(row[1]) / 255.0, float(row[2]) / 255.0, float(row[3]) / 255.0\n",
        "    colors_rgb.append((name, r, g, b))\n",
        "print(len(colors_rgb), 'colors downloaded')\n",
        "print('For example', colors_rgb[0])"
      ],
      "execution_count": 25,
      "outputs": [
        {
          "output_type": "stream",
          "text": [
            "14157 colors downloaded\n",
            "For example ('parakeet', 0.6823529411764706, 0.7137254901960784, 0.3411764705882353)\n"
          ],
          "name": "stdout"
        }
      ]
    },
    {
      "metadata": {
        "id": "ISanLTTkm2qq",
        "colab_type": "code",
        "colab": {}
      },
      "cell_type": "code",
      "source": [
        "names = [item[0] for item in colors_rgb]"
      ],
      "execution_count": 0,
      "outputs": []
    },
    {
      "metadata": {
        "id": "JOQIb8CdnGuV",
        "colab_type": "code",
        "colab": {}
      },
      "cell_type": "code",
      "source": [
        "## colors_rgb is the list containing the color name and the values of all\n",
        "## these colors\n",
        "r = [item[1] for item in colors_rgb]\n",
        "g = [item[2] for item in colors_rgb]\n",
        "b = [item[3] for item in colors_rgb]\n",
        "targets = np.column_stack([r, g, b])"
      ],
      "execution_count": 0,
      "outputs": []
    },
    {
      "metadata": {
        "id": "fqJzDINxMpOu",
        "colab_type": "code",
        "outputId": "4361989f-6918-4fc8-a30d-bb4cc2c91ec2",
        "colab": {
          "base_uri": "https://localhost:8080/",
          "height": 139
        }
      },
      "cell_type": "code",
      "source": [
        "## targets is the combination of these three color values\n",
        "targets"
      ],
      "execution_count": 28,
      "outputs": [
        {
          "output_type": "execute_result",
          "data": {
            "text/plain": [
              "array([[0.68235294, 0.71372549, 0.34117647],\n",
              "       [0.34509804, 0.20392157, 0.00392157],\n",
              "       [0.87058824, 0.92941176, 0.84313725],\n",
              "       ...,\n",
              "       [0.64705882, 0.70588235, 0.66666667],\n",
              "       [0.03529412, 0.21176471, 0.14117647],\n",
              "       [0.6745098 , 0.43921569, 0.41960784]])"
            ]
          },
          "metadata": {
            "tags": []
          },
          "execution_count": 28
        }
      ]
    },
    {
      "metadata": {
        "id": "75OmBTDsCMFV",
        "colab_type": "code",
        "colab": {}
      },
      "cell_type": "code",
      "source": [
        "# split the train and test dataset\n",
        "y_train = targets[:int(targets.shape[0]*0.8)]\n",
        "x_train = names[:int(len(names)*0.8)]\n",
        "\n",
        "y_test = targets[int(targets.shape[0]*0.8):]\n",
        "x_test = names[int(len(names)*0.8):]"
      ],
      "execution_count": 0,
      "outputs": []
    },
    {
      "metadata": {
        "id": "L1sjZ_tYnGNE",
        "colab_type": "code",
        "colab": {}
      },
      "cell_type": "code",
      "source": [
        "maxlen = 25\n",
        "t = Tokenizer(char_level=True)\n",
        "t.fit_on_texts(x_train)\n",
        "tokenized = t.texts_to_sequences(x_train)\n",
        "# padding is at the beginning of the sentences, but could change the settlment \n",
        "# by changing the padding = 'post'\n",
        "x_train = pad_sequences(tokenized, maxlen=maxlen)\n",
        "x_train = x_train.astype('float32')"
      ],
      "execution_count": 0,
      "outputs": []
    },
    {
      "metadata": {
        "id": "HKUorsD2KI_x",
        "colab_type": "code",
        "outputId": "c9911bbd-3d01-4852-e40b-c5e10d412ddc",
        "colab": {
          "base_uri": "https://localhost:8080/",
          "height": 139
        }
      },
      "cell_type": "code",
      "source": [
        "x_train"
      ],
      "execution_count": 34,
      "outputs": [
        {
          "output_type": "execute_result",
          "data": {
            "text/plain": [
              "array([[ 0.,  0.,  0., ...,  1.,  1.,  9.],\n",
              "       [ 0.,  0.,  0., ...,  8., 20.,  6.],\n",
              "       [ 0.,  0.,  0., ..., 12., 10., 16.],\n",
              "       ...,\n",
              "       [ 0.,  0.,  0., ...,  5.,  8.,  6.],\n",
              "       [ 0.,  0.,  0., ...,  2., 24.,  1.],\n",
              "       [ 0.,  0.,  0., ...,  3.,  1., 13.]], dtype=float32)"
            ]
          },
          "metadata": {
            "tags": []
          },
          "execution_count": 34
        }
      ]
    },
    {
      "metadata": {
        "id": "1cY2fRyzCqxO",
        "colab_type": "code",
        "colab": {
          "base_uri": "https://localhost:8080/",
          "height": 69
        },
        "outputId": "e2bff67b-606a-4819-f509-885972ec55d2"
      },
      "cell_type": "code",
      "source": [
        "print(y_train.shape), print(y_test.shape)"
      ],
      "execution_count": 35,
      "outputs": [
        {
          "output_type": "stream",
          "text": [
            "(11325, 3)\n",
            "(2832, 3)\n"
          ],
          "name": "stdout"
        },
        {
          "output_type": "execute_result",
          "data": {
            "text/plain": [
              "(None, None)"
            ]
          },
          "metadata": {
            "tags": []
          },
          "execution_count": 35
        }
      ]
    },
    {
      "metadata": {
        "id": "rG_R0s_mnI2O",
        "colab_type": "code",
        "outputId": "3498f4e6-b3aa-4373-b1b1-40a0c7bde3d2",
        "colab": {
          "base_uri": "https://localhost:8080/",
          "height": 367
        }
      },
      "cell_type": "code",
      "source": [
        "model = tf.keras.Sequential()\n",
        "model.add(tf.keras.layers.Reshape((1, maxlen), input_shape=(maxlen,)))\n",
        "# FIX ME\n",
        "# This simple model will work\n",
        "# but won't make useful predictions\n",
        "# return_sequences = True: 1. to stack the RNN celle, \n",
        "# 2. generate the classification results in each step\n",
        "# default is to set the return_sequences = False, which \n",
        "# only return the hidden sequence in the last state\n",
        "model.add(tf.keras.layers.LSTM(128, return_sequences=True,kernel_initializer='random_normal', bias_initializer='random_normal'))\n",
        "model.add(tf.keras.layers.LSTM(128))\n",
        "model.add(tf.keras.layers.Dense(64, activation='relu'))\n",
        "model.add(tf.keras.layers.Dense(3, activation='sigmoid'))\n",
        "model.compile(optimizer=tf.train.AdamOptimizer(), loss='mse', metrics=['accuracy'])\n",
        "model.summary()"
      ],
      "execution_count": 36,
      "outputs": [
        {
          "output_type": "stream",
          "text": [
            "WARNING:tensorflow:<tensorflow.python.keras.layers.recurrent.LSTM object at 0x7f610ac5be10>: Note that this layer is not optimized for performance. Please use tf.keras.layers.CuDNNLSTM for better performance on GPU.\n",
            "WARNING:tensorflow:<tensorflow.python.keras.layers.recurrent.LSTM object at 0x7f61118b4048>: Note that this layer is not optimized for performance. Please use tf.keras.layers.CuDNNLSTM for better performance on GPU.\n",
            "_________________________________________________________________\n",
            "Layer (type)                 Output Shape              Param #   \n",
            "=================================================================\n",
            "reshape_4 (Reshape)          (None, 1, 25)             0         \n",
            "_________________________________________________________________\n",
            "lstm_8 (LSTM)                (None, 1, 128)            78848     \n",
            "_________________________________________________________________\n",
            "lstm_9 (LSTM)                (None, 128)               131584    \n",
            "_________________________________________________________________\n",
            "dense_10 (Dense)             (None, 64)                8256      \n",
            "_________________________________________________________________\n",
            "dense_11 (Dense)             (None, 3)                 195       \n",
            "=================================================================\n",
            "Total params: 218,883\n",
            "Trainable params: 218,883\n",
            "Non-trainable params: 0\n",
            "_________________________________________________________________\n"
          ],
          "name": "stdout"
        }
      ]
    },
    {
      "metadata": {
        "id": "sqOfMfWxoGiE",
        "colab_type": "code",
        "outputId": "72e5c4e5-6e77-40ec-cf11-04cecd82952d",
        "colab": {
          "base_uri": "https://localhost:8080/",
          "height": 191
        }
      },
      "cell_type": "code",
      "source": [
        "# we're going to massively overfit on the training\n",
        "# data... that's fine for this experiment\n",
        "history = model.fit(x_train, y_train, epochs=5, validation_split=0.1)"
      ],
      "execution_count": 37,
      "outputs": [
        {
          "output_type": "stream",
          "text": [
            "Epoch 1/5\n",
            "319/319 [==============================] - 27s 83ms/step - loss: 0.0630 - acc: 0.6097 - val_loss: 0.0620 - val_acc: 0.5940\n",
            "Epoch 2/5\n",
            "319/319 [==============================] - 27s 83ms/step - loss: 0.0597 - acc: 0.6502 - val_loss: 0.0598 - val_acc: 0.6178\n",
            "Epoch 3/5\n",
            "319/319 [==============================] - 28s 86ms/step - loss: 0.0577 - acc: 0.6594 - val_loss: 0.0584 - val_acc: 0.6125\n",
            "Epoch 4/5\n",
            "319/319 [==============================] - 27s 84ms/step - loss: 0.0563 - acc: 0.6631 - val_loss: 0.0583 - val_acc: 0.6117\n",
            "Epoch 5/5\n",
            "319/319 [==============================] - 27s 85ms/step - loss: 0.0547 - acc: 0.6655 - val_loss: 0.0580 - val_acc: 0.6152\n"
          ],
          "name": "stdout"
        }
      ]
    },
    {
      "metadata": {
        "id": "kwwKauPbEIEA",
        "colab_type": "code",
        "colab": {
          "base_uri": "https://localhost:8080/",
          "height": 281
        },
        "outputId": "86fcbf6f-20f8-4b88-8019-0bdb02edaac0"
      },
      "cell_type": "code",
      "source": [
        "# let's see how badly we've overfit\n",
        "# (don't worry about it for this assignment)\n",
        "import matplotlib.pyplot as plt\n",
        "%matplotlib inline\n",
        "loss = history.history['loss']\n",
        "val_loss = history.history['val_loss']\n",
        "epochs = range(len(loss))\n",
        "plt.plot(epochs, loss, 'bo',c = 'r')\n",
        "plt.plot(epochs, val_loss, 'b')\n",
        "plt.title('Training and validation loss')\n",
        "plt.show()"
      ],
      "execution_count": 38,
      "outputs": [
        {
          "output_type": "display_data",
          "data": {
            "image/png": "[encoded data removed]",
            "text/plain": [
              "<matplotlib.figure.Figure at 0x7f610aba5668>"
            ]
          },
          "metadata": {
            "tags": []
          }
        }
      ]
    },
    {
      "metadata": {
        "id": "AoHQwlg8DKhF",
        "colab_type": "text"
      },
      "cell_type": "markdown",
      "source": [
        "### train another model"
      ]
    },
    {
      "metadata": {
        "id": "Jq-CkvwzC-uU",
        "colab_type": "code",
        "colab": {
          "base_uri": "https://localhost:8080/",
          "height": 401
        },
        "outputId": "dc967a13-ebfa-434a-e0b7-b50c38a063ef"
      },
      "cell_type": "code",
      "source": [
        "model = tf.keras.Sequential()\n",
        "model.add(tf.keras.layers.Reshape((1, maxlen), input_shape=(maxlen,)))\n",
        "# FIX ME\n",
        "# This simple model will work\n",
        "# but won't make useful predictions\n",
        "# return_sequences = True: 1. to stack the RNN celle, \n",
        "# 2. generate the classification results in each step\n",
        "# default is to set the return_sequences = False, which \n",
        "# only return the hidden sequence in the last state\n",
        "model.add(tf.keras.layers.LSTM(128, return_sequences=True,kernel_initializer='random_normal', bias_initializer='random_normal'))\n",
        "model.add(tf.keras.layers.LSTM(128))\n",
        "model.add(tf.keras.layers.Dense(128, activation='relu'))\n",
        "model.add(tf.keras.layers.Dense(64, activation='relu'))\n",
        "model.add(tf.keras.layers.Dense(3, activation='sigmoid'))\n",
        "model.compile(optimizer=tf.train.AdamOptimizer(), loss='mse', metrics=['accuracy'])\n",
        "model.summary()"
      ],
      "execution_count": 39,
      "outputs": [
        {
          "output_type": "stream",
          "text": [
            "WARNING:tensorflow:<tensorflow.python.keras.layers.recurrent.LSTM object at 0x7f610ab87780>: Note that this layer is not optimized for performance. Please use tf.keras.layers.CuDNNLSTM for better performance on GPU.\n",
            "WARNING:tensorflow:<tensorflow.python.keras.layers.recurrent.LSTM object at 0x7f610ab04ba8>: Note that this layer is not optimized for performance. Please use tf.keras.layers.CuDNNLSTM for better performance on GPU.\n",
            "_________________________________________________________________\n",
            "Layer (type)                 Output Shape              Param #   \n",
            "=================================================================\n",
            "reshape_5 (Reshape)          (None, 1, 25)             0         \n",
            "_________________________________________________________________\n",
            "lstm_10 (LSTM)               (None, 1, 128)            78848     \n",
            "_________________________________________________________________\n",
            "lstm_11 (LSTM)               (None, 128)               131584    \n",
            "_________________________________________________________________\n",
            "dense_12 (Dense)             (None, 128)               16512     \n",
            "_________________________________________________________________\n",
            "dense_13 (Dense)             (None, 64)                8256      \n",
            "_________________________________________________________________\n",
            "dense_14 (Dense)             (None, 3)                 195       \n",
            "=================================================================\n",
            "Total params: 235,395\n",
            "Trainable params: 235,395\n",
            "Non-trainable params: 0\n",
            "_________________________________________________________________\n"
          ],
          "name": "stdout"
        }
      ]
    },
    {
      "metadata": {
        "id": "g4pCCJmHDjm3",
        "colab_type": "code",
        "colab": {
          "base_uri": "https://localhost:8080/",
          "height": 191
        },
        "outputId": "d57622ed-89f7-48f5-9afc-44214ca7130c"
      },
      "cell_type": "code",
      "source": [
        "# we're going to massively overfit on the training\n",
        "# data... that's fine for this experiment\n",
        "history = model.fit(x_train, y_train, epochs=5, validation_split=0.1)"
      ],
      "execution_count": 40,
      "outputs": [
        {
          "output_type": "stream",
          "text": [
            "Epoch 1/5\n",
            "319/319 [==============================] - 27s 86ms/step - loss: 0.0633 - acc: 0.6109 - val_loss: 0.0605 - val_acc: 0.6019\n",
            "Epoch 2/5\n",
            "319/319 [==============================] - 27s 86ms/step - loss: 0.0596 - acc: 0.6553 - val_loss: 0.0599 - val_acc: 0.6275\n",
            "Epoch 3/5\n",
            "319/319 [==============================] - 27s 86ms/step - loss: 0.0579 - acc: 0.6660 - val_loss: 0.0592 - val_acc: 0.6275\n",
            "Epoch 4/5\n",
            "319/319 [==============================] - 27s 86ms/step - loss: 0.0564 - acc: 0.6678 - val_loss: 0.0582 - val_acc: 0.6284\n",
            "Epoch 5/5\n",
            "319/319 [==============================] - 29s 90ms/step - loss: 0.0550 - acc: 0.6668 - val_loss: 0.0579 - val_acc: 0.6249\n"
          ],
          "name": "stdout"
        }
      ]
    },
    {
      "metadata": {
        "id": "yzQX11aDoUZ2",
        "colab_type": "code",
        "outputId": "93bc8060-1a03-428e-acfd-fc769d27b253",
        "colab": {
          "base_uri": "https://localhost:8080/",
          "height": 281
        }
      },
      "cell_type": "code",
      "source": [
        "# let's see how badly we've overfit\n",
        "# (don't worry about it for this assignment)\n",
        "import matplotlib.pyplot as plt\n",
        "%matplotlib inline\n",
        "loss = history.history['loss']\n",
        "val_loss = history.history['val_loss']\n",
        "epochs = range(len(loss))\n",
        "plt.plot(epochs, loss, 'bo',c = 'r')\n",
        "plt.plot(epochs, val_loss, 'b')\n",
        "plt.title('Training and validation loss')\n",
        "plt.show()"
      ],
      "execution_count": 41,
      "outputs": [
        {
          "output_type": "display_data",
          "data": {
            "image/png": "[encoded data removed]",
            "text/plain": [
              "<matplotlib.figure.Figure at 0x7f6111918080>"
            ]
          },
          "metadata": {
            "tags": []
          }
        }
      ]
    },
    {
      "metadata": {
        "id": "6fvGDroFDmd9",
        "colab_type": "text"
      },
      "cell_type": "markdown",
      "source": [
        "### according to the validation test results, the second model is a bit better"
      ]
    },
    {
      "metadata": {
        "id": "0g7iccMlDlMq",
        "colab_type": "code",
        "colab": {
          "base_uri": "https://localhost:8080/",
          "height": 575
        },
        "outputId": "65a84a42-e7b5-4222-e837-fe6997f9e580"
      },
      "cell_type": "code",
      "source": [
        "model = tf.keras.Sequential()\n",
        "model.add(tf.keras.layers.Reshape((1, maxlen), input_shape=(maxlen,)))\n",
        "# FIX ME\n",
        "# This simple model will work\n",
        "# but won't make useful predictions\n",
        "# return_sequences = True: 1. to stack the RNN celle, \n",
        "# 2. generate the classification results in each step\n",
        "# default is to set the return_sequences = False, which \n",
        "# only return the hidden sequence in the last state\n",
        "model.add(tf.keras.layers.LSTM(128, return_sequences=True,kernel_initializer='random_normal', bias_initializer='random_normal'))\n",
        "model.add(tf.keras.layers.LSTM(128))\n",
        "model.add(tf.keras.layers.Dense(128, activation='relu'))\n",
        "model.add(tf.keras.layers.Dense(64, activation='relu'))\n",
        "model.add(tf.keras.layers.Dense(3, activation='sigmoid'))\n",
        "model.compile(optimizer=tf.train.AdamOptimizer(), loss='mse', metrics=['accuracy'])\n",
        "model.summary()\n",
        "history = model.fit(x_train, y_train, epochs=5, validation_split=0)"
      ],
      "execution_count": 42,
      "outputs": [
        {
          "output_type": "stream",
          "text": [
            "WARNING:tensorflow:<tensorflow.python.keras.layers.recurrent.LSTM object at 0x7f610ab87978>: Note that this layer is not optimized for performance. Please use tf.keras.layers.CuDNNLSTM for better performance on GPU.\n",
            "WARNING:tensorflow:<tensorflow.python.keras.layers.recurrent.LSTM object at 0x7f610ab87f98>: Note that this layer is not optimized for performance. Please use tf.keras.layers.CuDNNLSTM for better performance on GPU.\n",
            "_________________________________________________________________\n",
            "Layer (type)                 Output Shape              Param #   \n",
            "=================================================================\n",
            "reshape_6 (Reshape)          (None, 1, 25)             0         \n",
            "_________________________________________________________________\n",
            "lstm_12 (LSTM)               (None, 1, 128)            78848     \n",
            "_________________________________________________________________\n",
            "lstm_13 (LSTM)               (None, 128)               131584    \n",
            "_________________________________________________________________\n",
            "dense_15 (Dense)             (None, 128)               16512     \n",
            "_________________________________________________________________\n",
            "dense_16 (Dense)             (None, 64)                8256      \n",
            "_________________________________________________________________\n",
            "dense_17 (Dense)             (None, 3)                 195       \n",
            "=================================================================\n",
            "Total params: 235,395\n",
            "Trainable params: 235,395\n",
            "Non-trainable params: 0\n",
            "_________________________________________________________________\n",
            "Epoch 1/5\n",
            "354/354 [==============================] - 29s 83ms/step - loss: 0.0635 - acc: 0.6102\n",
            "Epoch 2/5\n",
            "354/354 [==============================] - 29s 82ms/step - loss: 0.0596 - acc: 0.6514\n",
            "Epoch 3/5\n",
            "354/354 [==============================] - 29s 82ms/step - loss: 0.0577 - acc: 0.6635\n",
            "Epoch 4/5\n",
            "354/354 [==============================] - 30s 84ms/step - loss: 0.0561 - acc: 0.6643\n",
            "Epoch 5/5\n",
            "354/354 [==============================] - 29s 82ms/step - loss: 0.0548 - acc: 0.6681\n"
          ],
          "name": "stdout"
        }
      ]
    },
    {
      "metadata": {
        "id": "6HXE2aKeEUGX",
        "colab_type": "text"
      },
      "cell_type": "markdown",
      "source": [
        "### test the model on the test dataset"
      ]
    },
    {
      "metadata": {
        "id": "pddl1RZQETjL",
        "colab_type": "code",
        "colab": {}
      },
      "cell_type": "code",
      "source": [
        "tokenized = t.texts_to_sequences(x_test)\n",
        "# padding is at the beginning of the sentences, but could change the settlment \n",
        "# by changing the padding = 'post'\n",
        "x_test = pad_sequences(tokenized, maxlen=maxlen)\n",
        "x_test = x_test.astype('float32')"
      ],
      "execution_count": 0,
      "outputs": []
    },
    {
      "metadata": {
        "id": "5KwW3xN_FmPa",
        "colab_type": "code",
        "colab": {
          "base_uri": "https://localhost:8080/",
          "height": 35
        },
        "outputId": "05e17a02-ab4d-4809-9832-459605479ff7"
      },
      "cell_type": "code",
      "source": [
        "score = model.evaluate(x_test, y_test, batch_size=128)"
      ],
      "execution_count": 44,
      "outputs": [
        {
          "output_type": "stream",
          "text": [
            "23/23 [==============================] - 1s 41ms/step\n"
          ],
          "name": "stdout"
        }
      ]
    },
    {
      "metadata": {
        "id": "8u57EFFoHI4v",
        "colab_type": "code",
        "colab": {
          "base_uri": "https://localhost:8080/",
          "height": 52
        },
        "outputId": "04c8491c-d7dc-4856-f390-e177ddc76728"
      },
      "cell_type": "code",
      "source": [
        "print('the test loss is:', score[0])\n",
        "print('the test accuracy is:',score[1])"
      ],
      "execution_count": 45,
      "outputs": [
        {
          "output_type": "stream",
          "text": [
            "the test loss is: 0.05952943869903263\n",
            "the test accuracy is: 0.6624293785310734\n"
          ],
          "name": "stdout"
        }
      ]
    },
    {
      "metadata": {
        "id": "RwnctFkjHM-1",
        "colab_type": "text"
      },
      "cell_type": "markdown",
      "source": [
        "### print the test results"
      ]
    },
    {
      "metadata": {
        "id": "_IYXreehqc7f",
        "colab_type": "code",
        "colab": {}
      },
      "cell_type": "code",
      "source": [
        "# plots a color image\n",
        "def plot_rgb(rgb):\n",
        "    data = [[rgb]]\n",
        "    plt.figure(figsize=(2,2))\n",
        "    plt.imshow(data, interpolation='nearest')\n",
        "    plt.axis('off')\n",
        "    plt.show()"
      ],
      "execution_count": 0,
      "outputs": []
    },
    {
      "metadata": {
        "id": "Fc5TsbxQqep1",
        "colab_type": "code",
        "colab": {}
      },
      "cell_type": "code",
      "source": [
        "def scale(n):\n",
        "    return int(n * 255)"
      ],
      "execution_count": 0,
      "outputs": []
    },
    {
      "metadata": {
        "id": "_e1E5PMTqhcd",
        "colab_type": "code",
        "colab": {}
      },
      "cell_type": "code",
      "source": [
        "def predict(name):\n",
        "    tokenized = t.texts_to_sequences([name])\n",
        "    padded = pad_sequences(tokenized, maxlen=maxlen)\n",
        "    padded = padded.astype('float32')\n",
        "    pred = model.predict(np.array(padded))[0]\n",
        "    # Check the shapes here if you run into trouble with the next \n",
        "    # method after adding your RNN\n",
        "    print(pred)\n",
        "    r, g, b = scale(pred[0]), scale(pred[1]), scale(pred[2])\n",
        "    print(name + ',', 'R,G,B:', r,g,b)\n",
        "    plot_rgb(pred)"
      ],
      "execution_count": 0,
      "outputs": []
    },
    {
      "metadata": {
        "id": "C2rwJDV9qjJN",
        "colab_type": "code",
        "outputId": "ab8fd9ca-191d-42e6-98fc-23c7633a4c86",
        "colab": {
          "base_uri": "https://localhost:8080/",
          "height": 541
        }
      },
      "cell_type": "code",
      "source": [
        "# some \"test\" data\n",
        "predict(\"light blue\")\n",
        "predict(\"blue\")\n",
        "predict(\"dark blue\")"
      ],
      "execution_count": 49,
      "outputs": [
        {
          "output_type": "stream",
          "text": [
            "[0.3583377  0.5870414  0.80568224]\n",
            "light blue, R,G,B: 91 149 205\n"
          ],
          "name": "stdout"
        },
        {
          "output_type": "display_data",
          "data": {
            "image/png": "[encoded data removed]",
            "text/plain": [
              "<matplotlib.figure.Figure at 0x7f610ab2d748>"
            ]
          },
          "metadata": {
            "tags": []
          }
        },
        {
          "output_type": "stream",
          "text": [
            "[0.4344066 0.5697644 0.6672176]\n",
            "blue, R,G,B: 110 145 170\n"
          ],
          "name": "stdout"
        },
        {
          "output_type": "display_data",
          "data": {
            "image/png": "[encoded data removed]",
            "text/plain": [
              "<matplotlib.figure.Figure at 0x7f6108a9c080>"
            ]
          },
          "metadata": {
            "tags": []
          }
        },
        {
          "output_type": "stream",
          "text": [
            "[0.3819579 0.5534416 0.7261582]\n",
            "dark blue, R,G,B: 97 141 185\n"
          ],
          "name": "stdout"
        },
        {
          "output_type": "display_data",
          "data": {
            "image/png": "[encoded data removed]",
            "text/plain": [
              "<matplotlib.figure.Figure at 0x7f6108a92cc0>"
            ]
          },
          "metadata": {
            "tags": []
          }
        }
      ]
    },
    {
      "metadata": {
        "id": "nEBcGiqSqk-W",
        "colab_type": "code",
        "colab": {}
      },
      "cell_type": "code",
      "source": [
        ""
      ],
      "execution_count": 0,
      "outputs": []
    }
  ]
}