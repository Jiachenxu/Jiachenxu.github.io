{
  "nbformat": 4,
  "nbformat_minor": 0,
  "metadata": {
    "colab": {
      "name": "HW42.ipynb",
      "version": "0.3.2",
      "provenance": [],
      "collapsed_sections": []
    },
    "kernelspec": {
      "name": "python3",
      "display_name": "Python 3"
    },
    "accelerator": "GPU"
  },
  "cells": [
    {
      "metadata": {
        "id": "6ao-JFaulDlA",
        "colab_type": "code",
        "colab": {}
      },
      "cell_type": "code",
      "source": [
        "import tensorflow as tf\n",
        "tf.enable_eager_execution()\n",
        "\n",
        "from tensorflow.keras.preprocessing.text import Tokenizer\n",
        "from tensorflow.keras.preprocessing.sequence import pad_sequences\n",
        "\n",
        "import csv\n",
        "import matplotlib.pyplot as plt\n",
        "import numpy as np\n",
        "import os"
      ],
      "execution_count": 0,
      "outputs": []
    },
    {
      "metadata": {
        "id": "Bmm0DUpnlNAw",
        "colab_type": "code",
        "outputId": "50f61060-569d-4276-d37d-180c2d4561db",
        "colab": {
          "base_uri": "https://localhost:8080/",
          "height": 243
        }
      },
      "cell_type": "code",
      "source": [
        "# Download the colors dataset\n",
        "if not os.path.exists('colors.csv'):\n",
        "  !curl -O 'https://raw.githubusercontent.com/random-forests/datasets/master/colors.csv'\n",
        "!head colors.csv"
      ],
      "execution_count": 2,
      "outputs": [
        {
          "output_type": "stream",
          "text": [
            "  % Total    % Received % Xferd  Average Speed   Time    Time     Time  Current\n",
            "                                 Dload  Upload   Total   Spent    Left  Speed\n",
            "100  323k  100  323k    0     0  57959      0  0:00:05  0:00:05 --:--:-- 78776\n",
            "name,red,green,blue\n",
            "parakeet,174,182,87\n",
            "saddle brown,88,52,1\n",
            "cucumber crush,222,237,215\n",
            "pool blue,134,194,201\n",
            "distance,98,110,130\n",
            "light urple,179,111,246\n",
            "east side,172,145,206\n",
            "florida seashells,250,228,199\n",
            "paris,145,167,189\n"
          ],
          "name": "stdout"
        }
      ]
    },
    {
      "metadata": {
        "id": "A_hCjUoElOOo",
        "colab_type": "code",
        "outputId": "aba54167-746e-4dd3-8003-ae9541eae241",
        "colab": {
          "base_uri": "https://localhost:8080/",
          "height": 52
        }
      },
      "cell_type": "code",
      "source": [
        "# Read the data\n",
        "colors_rgb = []\n",
        "csv_reader = csv.reader(open('colors.csv'), delimiter=',')\n",
        "next(csv_reader) # Remove the header\n",
        "for row in csv_reader:\n",
        "    name, r, g, b = row[0].lower().strip(), float(row[1]) / 255.0, float(row[2]) / 255.0, float(row[3]) / 255.0\n",
        "    colors_rgb.append((name, r, g, b))\n",
        "print(len(colors_rgb), 'colors downloaded')\n",
        "print('For example', colors_rgb[0])"
      ],
      "execution_count": 3,
      "outputs": [
        {
          "output_type": "stream",
          "text": [
            "14157 colors downloaded\n",
            "For example ('parakeet', 0.6823529411764706, 0.7137254901960784, 0.3411764705882353)\n"
          ],
          "name": "stdout"
        }
      ]
    },
    {
      "metadata": {
        "id": "ISanLTTkm2qq",
        "colab_type": "code",
        "colab": {}
      },
      "cell_type": "code",
      "source": [
        "names = [item[0] for item in colors_rgb]"
      ],
      "execution_count": 0,
      "outputs": []
    },
    {
      "metadata": {
        "id": "Nu1hY8FMKDhM",
        "colab_type": "code",
        "colab": {}
      },
      "cell_type": "code",
      "source": [
        "names"
      ],
      "execution_count": 0,
      "outputs": []
    },
    {
      "metadata": {
        "id": "L1sjZ_tYnGNE",
        "colab_type": "code",
        "colab": {}
      },
      "cell_type": "code",
      "source": [
        "maxlen = 25\n",
        "t = Tokenizer(char_level=True)\n",
        "t.fit_on_texts(names)\n",
        "tokenized = t.texts_to_sequences(names)\n",
        "# padding is at the beginning of the sentences, but could change the settlment \n",
        "# by changing the padding = 'post'\n",
        "padded_names = pad_sequences(tokenized, maxlen=maxlen)\n",
        "padded_names = padded_names.astype('float32')"
      ],
      "execution_count": 0,
      "outputs": []
    },
    {
      "metadata": {
        "id": "HKUorsD2KI_x",
        "colab_type": "code",
        "colab": {
          "base_uri": "https://localhost:8080/",
          "height": 139
        },
        "outputId": "fa84b185-c800-4ddf-f095-b6a0e272edf3"
      },
      "cell_type": "code",
      "source": [
        "padded_names\n"
      ],
      "execution_count": 8,
      "outputs": [
        {
          "output_type": "execute_result",
          "data": {
            "text/plain": [
              "array([[ 0.,  0.,  0., ...,  1.,  1.,  9.],\n",
              "       [ 0.,  0.,  0., ...,  8., 20.,  6.],\n",
              "       [ 0.,  0.,  0., ..., 12., 10., 16.],\n",
              "       ...,\n",
              "       [ 0.,  0.,  0., ...,  8.,  6.,  1.],\n",
              "       [ 0.,  0.,  0., ...,  1.,  1.,  6.],\n",
              "       [ 0.,  0.,  0., ...,  5., 11.,  1.]], dtype=float32)"
            ]
          },
          "metadata": {
            "tags": []
          },
          "execution_count": 8
        }
      ]
    },
    {
      "metadata": {
        "id": "JOQIb8CdnGuV",
        "colab_type": "code",
        "colab": {}
      },
      "cell_type": "code",
      "source": [
        "## colors_rgb is the list containing the color name and the values of all\n",
        "## these colors\n",
        "r = [item[1] for item in colors_rgb]\n",
        "g = [item[2] for item in colors_rgb]\n",
        "b = [item[3] for item in colors_rgb]\n",
        "targets = np.column_stack([r, g, b])"
      ],
      "execution_count": 0,
      "outputs": []
    },
    {
      "metadata": {
        "id": "fqJzDINxMpOu",
        "colab_type": "code",
        "colab": {
          "base_uri": "https://localhost:8080/",
          "height": 139
        },
        "outputId": "faac16cb-d091-4c19-fac9-876cc673775c"
      },
      "cell_type": "code",
      "source": [
        "## targets is the combination of these three color values\n",
        "targets"
      ],
      "execution_count": 12,
      "outputs": [
        {
          "output_type": "execute_result",
          "data": {
            "text/plain": [
              "array([[0.68235294, 0.71372549, 0.34117647],\n",
              "       [0.34509804, 0.20392157, 0.00392157],\n",
              "       [0.87058824, 0.92941176, 0.84313725],\n",
              "       ...,\n",
              "       [0.64705882, 0.70588235, 0.66666667],\n",
              "       [0.03529412, 0.21176471, 0.14117647],\n",
              "       [0.6745098 , 0.43921569, 0.41960784]])"
            ]
          },
          "metadata": {
            "tags": []
          },
          "execution_count": 12
        }
      ]
    },
    {
      "metadata": {
        "id": "rG_R0s_mnI2O",
        "colab_type": "code",
        "outputId": "abffaf7b-100b-4faa-9502-05fb2b6dcfdb",
        "colab": {
          "base_uri": "https://localhost:8080/",
          "height": 367
        }
      },
      "cell_type": "code",
      "source": [
        "model = tf.keras.Sequential()\n",
        "model.add(tf.keras.layers.Reshape((1, maxlen), input_shape=(maxlen,)))\n",
        "# FIX ME\n",
        "# This simple model will work\n",
        "# but won't make useful predictions\n",
        "# return_sequences = True: 1. to stack the RNN celle, \n",
        "# 2. generate the classification results in each step\n",
        "# default is to set the return_sequences = False, which \n",
        "# only return the hidden sequence in the last state\n",
        "model.add(tf.keras.layers.LSTM(128, return_sequences=True,kernel_initializer='random_normal', bias_initializer='random_normal'))\n",
        "model.add(tf.keras.layers.LSTM(128))\n",
        "model.add(tf.keras.layers.Dense(64, activation='relu'))\n",
        "model.add(tf.keras.layers.Dense(3, activation='sigmoid'))\n",
        "model.compile(optimizer=tf.train.AdamOptimizer(), loss='mse', metrics=['accuracy'])\n",
        "model.summary()"
      ],
      "execution_count": 70,
      "outputs": [
        {
          "output_type": "stream",
          "text": [
            "WARNING:tensorflow:<tensorflow.python.keras.layers.recurrent.LSTM object at 0x7f53fba52be0>: Note that this layer is not optimized for performance. Please use tf.keras.layers.CuDNNLSTM for better performance on GPU.\n",
            "WARNING:tensorflow:<tensorflow.python.keras.layers.recurrent.LSTM object at 0x7f53fba52e80>: Note that this layer is not optimized for performance. Please use tf.keras.layers.CuDNNLSTM for better performance on GPU.\n",
            "_________________________________________________________________\n",
            "Layer (type)                 Output Shape              Param #   \n",
            "=================================================================\n",
            "reshape_16 (Reshape)         (None, 1, 25)             0         \n",
            "_________________________________________________________________\n",
            "lstm_14 (LSTM)               (None, 1, 128)            78848     \n",
            "_________________________________________________________________\n",
            "lstm_15 (LSTM)               (None, 128)               131584    \n",
            "_________________________________________________________________\n",
            "dense_30 (Dense)             (None, 64)                8256      \n",
            "_________________________________________________________________\n",
            "dense_31 (Dense)             (None, 3)                 195       \n",
            "=================================================================\n",
            "Total params: 218,883\n",
            "Trainable params: 218,883\n",
            "Non-trainable params: 0\n",
            "_________________________________________________________________\n"
          ],
          "name": "stdout"
        }
      ]
    },
    {
      "metadata": {
        "id": "sqOfMfWxoGiE",
        "colab_type": "code",
        "outputId": "e8845dc6-af27-4ae0-fc60-456e827f0df9",
        "colab": {
          "base_uri": "https://localhost:8080/",
          "height": 191
        }
      },
      "cell_type": "code",
      "source": [
        "# we're going to massively overfit on the training\n",
        "# data... that's fine for this experiment\n",
        "history = model.fit(padded_names, targets, epochs=5, validation_split=0.1)"
      ],
      "execution_count": 71,
      "outputs": [
        {
          "output_type": "stream",
          "text": [
            "Epoch 1/5\n",
            "399/399 [==============================] - 33s 84ms/step - loss: 0.0630 - acc: 0.6186 - val_loss: 0.0640 - val_acc: 0.6335\n",
            "Epoch 2/5\n",
            "399/399 [==============================] - 33s 84ms/step - loss: 0.0595 - acc: 0.6541 - val_loss: 0.0637 - val_acc: 0.6448\n",
            "Epoch 3/5\n",
            "399/399 [==============================] - 34s 85ms/step - loss: 0.0576 - acc: 0.6637 - val_loss: 0.0619 - val_acc: 0.6653\n",
            "Epoch 4/5\n",
            "399/399 [==============================] - 33s 84ms/step - loss: 0.0560 - acc: 0.6669 - val_loss: 0.0592 - val_acc: 0.6547\n",
            "Epoch 5/5\n",
            "399/399 [==============================] - 34s 84ms/step - loss: 0.0547 - acc: 0.6668 - val_loss: 0.0605 - val_acc: 0.6716\n"
          ],
          "name": "stdout"
        }
      ]
    },
    {
      "metadata": {
        "id": "yzQX11aDoUZ2",
        "colab_type": "code",
        "outputId": "f3fecd73-5686-42d9-a721-4a8d425bc4d9",
        "colab": {
          "base_uri": "https://localhost:8080/",
          "height": 281
        }
      },
      "cell_type": "code",
      "source": [
        "# let's see how badly we've overfit\n",
        "# (don't worry about it for this assignment)\n",
        "import matplotlib.pyplot as plt\n",
        "%matplotlib inline\n",
        "loss = history.history['loss']\n",
        "val_loss = history.history['val_loss']\n",
        "epochs = range(len(loss))\n",
        "plt.plot(epochs, loss, 'bo',c = 'r')\n",
        "plt.plot(epochs, val_loss, 'b')\n",
        "plt.title('Training and validation loss')\n",
        "plt.show()"
      ],
      "execution_count": 72,
      "outputs": [
        {
          "output_type": "display_data",
          "data": {
            "image/png": "[encoded data removed]",
            "text/plain": [
              "<matplotlib.figure.Figure at 0x7f53fba73438>"
            ]
          },
          "metadata": {
            "tags": []
          }
        }
      ]
    },
    {
      "metadata": {
        "id": "_IYXreehqc7f",
        "colab_type": "code",
        "colab": {}
      },
      "cell_type": "code",
      "source": [
        "# plots a color image\n",
        "def plot_rgb(rgb):\n",
        "    data = [[rgb]]\n",
        "    plt.figure(figsize=(2,2))\n",
        "    plt.imshow(data, interpolation='nearest')\n",
        "    plt.axis('off')\n",
        "    plt.show()"
      ],
      "execution_count": 0,
      "outputs": []
    },
    {
      "metadata": {
        "id": "Fc5TsbxQqep1",
        "colab_type": "code",
        "colab": {}
      },
      "cell_type": "code",
      "source": [
        "def scale(n):\n",
        "    return int(n * 255)"
      ],
      "execution_count": 0,
      "outputs": []
    },
    {
      "metadata": {
        "id": "_e1E5PMTqhcd",
        "colab_type": "code",
        "colab": {}
      },
      "cell_type": "code",
      "source": [
        "def predict(name):\n",
        "    tokenized = t.texts_to_sequences([name])\n",
        "    padded = pad_sequences(tokenized, maxlen=maxlen)\n",
        "    padded = padded.astype('float32')\n",
        "    pred = model.predict(np.array(padded))[0]\n",
        "    # Check the shapes here if you run into trouble with the next \n",
        "    # method after adding your RNN\n",
        "    print(pred)\n",
        "    r, g, b = scale(pred[0]), scale(pred[1]), scale(pred[2])\n",
        "    print(name + ',', 'R,G,B:', r,g,b)\n",
        "    plot_rgb(pred)"
      ],
      "execution_count": 0,
      "outputs": []
    },
    {
      "metadata": {
        "id": "C2rwJDV9qjJN",
        "colab_type": "code",
        "outputId": "b573aede-8f35-4a73-ba20-779c7fa0e7ec",
        "colab": {
          "base_uri": "https://localhost:8080/",
          "height": 541
        }
      },
      "cell_type": "code",
      "source": [
        "# some \"test\" data\n",
        "predict(\"light blue\")\n",
        "predict(\"blue\")\n",
        "predict(\"dark blue\")"
      ],
      "execution_count": 75,
      "outputs": [
        {
          "output_type": "stream",
          "text": [
            "[0.34204087 0.5440223  0.7384577 ]\n",
            "light blue, R,G,B: 87 138 188\n"
          ],
          "name": "stdout"
        },
        {
          "output_type": "display_data",
          "data": {
            "image/png": "[encoded data removed]",
            "text/plain": [
              "<matplotlib.figure.Figure at 0x7f53f8efd710>"
            ]
          },
          "metadata": {
            "tags": []
          }
        },
        {
          "output_type": "stream",
          "text": [
            "[0.37649423 0.49382678 0.6086016 ]\n",
            "blue, R,G,B: 96 125 155\n"
          ],
          "name": "stdout"
        },
        {
          "output_type": "display_data",
          "data": {
            "image/png": "[encoded data removed]",
            "text/plain": [
              "<matplotlib.figure.Figure at 0x7f53f8ebbcc0>"
            ]
          },
          "metadata": {
            "tags": []
          }
        },
        {
          "output_type": "stream",
          "text": [
            "[0.36406985 0.46270952 0.5931054 ]\n",
            "dark blue, R,G,B: 92 117 151\n"
          ],
          "name": "stdout"
        },
        {
          "output_type": "display_data",
          "data": {
            "image/png": "[encoded data removed]",
            "text/plain": [
              "<matplotlib.figure.Figure at 0x7f53f8e81cc0>"
            ]
          },
          "metadata": {
            "tags": []
          }
        }
      ]
    },
    {
      "metadata": {
        "id": "nEBcGiqSqk-W",
        "colab_type": "code",
        "colab": {}
      },
      "cell_type": "code",
      "source": [
        ""
      ],
      "execution_count": 0,
      "outputs": []
    }
  ]
}